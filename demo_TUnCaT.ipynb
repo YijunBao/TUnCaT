{
 "cells": [
  {
   "cell_type": "code",
   "execution_count": 1,
   "metadata": {},
   "outputs": [],
   "source": [
    "import os\n",
    "import numpy as np\n",
    "\n",
    "from tuncat.run_TUnCaT import run_TUnCaT"
   ]
  },
  {
   "cell_type": "markdown",
   "metadata": {},
   "source": [
    "# Set the folder for the input and output data"
   ]
  },
  {
   "cell_type": "code",
   "execution_count": 2,
   "metadata": {},
   "outputs": [],
   "source": [
    "# The folder containing the videos\n",
    "dir_parent = './data'\n",
    "# A list of the name of the videos\n",
    "list_Exp_ID = ['c28_163_244']\n",
    "# The folder name (excluding the file name) containing the video\n",
    "dir_video = dir_parent\n",
    "# The folder name (excluding the file name) containing the neuron masks\n",
    "dir_masks = dir_parent\n",
    "# The folder to save the unmixed traces.\n",
    "dir_traces = os.path.join(dir_parent, 'unmixed_traces')"
   ]
  },
  {
   "cell_type": "markdown",
   "metadata": {},
   "source": [
    "# Set parameters"
   ]
  },
  {
   "cell_type": "code",
   "execution_count": 3,
   "metadata": {},
   "outputs": [],
   "source": [
    "# A list of tested alpha.\n",
    "list_alpha = [1]\n",
    "# If there are multiple elements in \"list_alpha\", whether consider them as independent trials.\n",
    "multi_alpha = True\n",
    "# False means the largest element providing non-trivial output traces will be used, \n",
    "# which can be differnt for different neurons. It must be sorted in ascending order.\n",
    "# True means each element will be tested and saved independently.\n",
    "# Traces lower than this quantile are clipped to this quantile value.\n",
    "Qclip = 0\n",
    "# The minimum value of the input traces after scaling and shifting. \n",
    "epsilon = 0\n",
    "# Maximum pertentage of unmixed traces equaling to the trace minimum.\n",
    "th_pertmin = 1\n",
    "# If th_residual > 0, The redisual of unmixing should be smaller than this value.\n",
    "th_residual = False\n",
    "# The temporal downsampling ratio.\n",
    "nbin = 1\n",
    "# The method of temporal downsampling. can be 'downsample', 'sum', or 'mean'\n",
    "bin_option = 'downsample' # 'sum' # 'mean' # \n",
    "# Whether a flexible alpha strategy is used \n",
    "# when the smallest alpha in \"list_alpha\" already caused over-regularization.\n",
    "flexible_alpha = True"
   ]
  },
  {
   "cell_type": "markdown",
   "metadata": {},
   "source": [
    "# Run TUnCaT on the demo video\n",
    "The saved processing time is recorded in a laptop with an AMD Ryzen 5 3500U quad-core CPU"
   ]
  },
  {
   "cell_type": "code",
   "execution_count": 4,
   "metadata": {},
   "outputs": [
    {
     "name": "stdout",
     "output_type": "stream",
     "text": [
      "c28_163_244\n",
      "Data loading time: 0.04901242256164551 s\n",
      "Trace calculation time: 0.6718423366546631 s\n",
      "NMF unmixing time: 32.218753814697266 s\n"
     ]
    },
    {
     "name": "stderr",
     "output_type": "stream",
     "text": [
      "C:\\Program Files\\Python38\\lib\\site-packages\\numpy\\core\\_asarray.py:136: VisibleDeprecationWarning: Creating an ndarray from ragged nested sequences (which is a list-or-tuple of lists-or-tuples-or ndarrays with different lengths or shapes) is deprecated. If you meant to do this, you must specify 'dtype=object' when creating the ndarray\n",
      "  return array(a, dtype, copy=False, order=order, subok=True)\n"
     ]
    }
   ],
   "source": [
    "for Exp_ID in list_Exp_ID:\n",
    "    print(Exp_ID)\n",
    "    # The file path (including file name) of the video.\n",
    "    filename_video = os.path.join(dir_video, Exp_ID + '.h5')\n",
    "    # The file path (including file name) of the neuron masks. \n",
    "    filename_masks = os.path.join(dir_masks, 'FinalMasks_' + Exp_ID + '.mat')\n",
    "    \n",
    "    # run TUnCaT to calculate the unmixed traces of the marked neurons in the video\n",
    "    run_TUnCaT(Exp_ID, filename_video, filename_masks, dir_traces, list_alpha, Qclip, \\\n",
    "        th_pertmin, epsilon, th_residual, nbin, bin_option, multi_alpha, flexible_alpha)"
   ]
  },
  {
   "cell_type": "markdown",
   "metadata": {},
   "source": [
    "# Load the output data (Optional)."
   ]
  },
  {
   "cell_type": "code",
   "execution_count": 5,
   "metadata": {},
   "outputs": [],
   "source": [
    "from scipy.io import loadmat\n",
    "\n",
    "dir_trace_raw = os.path.join(dir_traces, \"raw\")\n",
    "if len(list_alpha) > 1:\n",
    "    dir_trace_unmix = os.path.join(dir_traces, \"list_alpha={}\".format(str(list_alpha)))\n",
    "else:\n",
    "    dir_trace_unmix = os.path.join(dir_traces, \"alpha={:6.3f}\".format(list_alpha[0]))\n",
    "raw_mat = loadmat(os.path.join(dir_trace_raw, Exp_ID+\".mat\"))\n",
    "traces = raw_mat[\"traces\"]\n",
    "bgtraces = raw_mat[\"bgtraces\"]\n",
    "unmix_mat = loadmat(os.path.join(dir_trace_unmix, Exp_ID+\".mat\"))\n",
    "traces_nmfdemix = unmix_mat[\"traces_nmfdemix\"]"
   ]
  },
  {
   "cell_type": "markdown",
   "metadata": {},
   "source": [
    "# Plot the mixed and unmixed trace of the first neuron (Optional, but requires matplotlib to run)."
   ]
  },
  {
   "cell_type": "code",
   "execution_count": 6,
   "metadata": {},
   "outputs": [
    {
     "data": {
      "image/png": "[encoded data removed]",
      "text/plain": [
       "<Figure size 432x288 with 2 Axes>"
      ]
     },
     "metadata": {
      "needs_background": "light"
     },
     "output_type": "display_data"
    }
   ],
   "source": [
    "import matplotlib.pyplot as plt\n",
    "\n",
    "nn = 0\n",
    "plt.figure()\n",
    "plt.subplot(2,1,1)\n",
    "plt.plot(traces[:,0] - bgtraces[:,0])\n",
    "plt.subplot(2,1,2)\n",
    "plt.plot(traces_nmfdemix[:,0])\n",
    "plt.xlabel('Time (frame)')\n",
    "plt.show()"
   ]
  }
 ],
 "metadata": {
  "interpreter": {
   "hash": "1baa965d5efe3ac65b79dfc60c0d706280b1da80fedb7760faf2759126c4f253"
  },
  "kernelspec": {
   "display_name": "Python 3.8.5 64-bit",
   "name": "python3"
  },
  "language_info": {
   "codemirror_mode": {
    "name": "ipython",
    "version": 3
   },
   "file_extension": ".py",
   "mimetype": "text/x-python",
   "name": "python",
   "nbconvert_exporter": "python",
   "pygments_lexer": "ipython3",
   "version": "3.8.5"
  },
  "orig_nbformat": 4
 },
 "nbformat": 4,
 "nbformat_minor": 2
}
