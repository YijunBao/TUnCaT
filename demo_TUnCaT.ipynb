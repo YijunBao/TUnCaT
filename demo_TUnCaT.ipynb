{
 "cells": [
  {
   "cell_type": "code",
   "execution_count": 1,
   "source": [
    "import os\r\n",
    "import numpy as np\r\n",
    "\r\n",
    "from run_TUnCaT import run_TUnCaT"
   ],
   "outputs": [],
   "metadata": {}
  },
  {
   "cell_type": "markdown",
   "source": [
    "# Set the folder for the input and output data"
   ],
   "metadata": {}
  },
  {
   "cell_type": "code",
   "execution_count": 2,
   "source": [
    "# The folder containing the videos\r\n",
    "dir_parent = './data'\r\n",
    "# A list of the name of the videos\r\n",
    "list_Exp_ID = ['c28_163_244']\r\n",
    "# The folder name (excluding the file name) containing the video\r\n",
    "dir_video = dir_parent\r\n",
    "# The folder name (excluding the file name) containing the neuron masks\r\n",
    "dir_masks = dir_parent\r\n",
    "# The folder to save the unmixed traces.\r\n",
    "dir_traces = os.path.join(dir_parent, 'unmixed_traces')"
   ],
   "outputs": [],
   "metadata": {}
  },
  {
   "cell_type": "markdown",
   "source": [
    "# Set parameters"
   ],
   "metadata": {}
  },
  {
   "cell_type": "code",
   "execution_count": 3,
   "source": [
    "# A list of tested alpha.\r\n",
    "list_alpha = [1]\r\n",
    "# If there are multiple elements in \"list_alpha\", whether consider them as independent trials.\r\n",
    "multi_alpha = True\r\n",
    "# False means the largest element providing non-trivial output traces will be used, \r\n",
    "# which can be differnt for different neurons. It must be sorted in ascending order.\r\n",
    "# True means each element will be tested and saved independently.\r\n",
    "# Traces lower than this quantile are clipped to this quantile value.\r\n",
    "Qclip = 0\r\n",
    "# Maximum pertentage of unmixed traces equaling to the trace minimum.\r\n",
    "th_pertmin = 1\r\n",
    "# The minimum value of the input traces after scaling and shifting. \r\n",
    "epsilon = 0\r\n",
    "# Whether a direction requirement is applied.\r\n",
    "use_direction = False\r\n",
    "# The temporal downsampling ratio.\r\n",
    "nbin = 1\r\n",
    "# The method of temporal downsampling. can be 'downsample', 'sum', or 'mean'\r\n",
    "bin_option = 'downsample' # 'sum' # 'mean' # \r\n",
    "# Whether a flexible alpha strategy is used \r\n",
    "# when the smallest alpha in \"list_alpha\" already caused over-regularization.\r\n",
    "flexible_alpha = True"
   ],
   "outputs": [],
   "metadata": {}
  },
  {
   "cell_type": "markdown",
   "source": [
    "# Run TUnCaT on the demo video\r\n",
    "The saved processing time is recorded in a laptop with an AMD Ryzen 5 3500U quad-core CPU"
   ],
   "metadata": {}
  },
  {
   "cell_type": "code",
   "execution_count": 4,
   "source": [
    "for Exp_ID in list_Exp_ID:\r\n",
    "    print(Exp_ID)\r\n",
    "    # The file path (including file name) of the video.\r\n",
    "    filename_video = os.path.join(dir_video, Exp_ID + '.h5')\r\n",
    "    # The file path (including file name) of the neuron masks. \r\n",
    "    filename_masks = os.path.join(dir_masks, 'FinalMasks_' + Exp_ID + '.mat')\r\n",
    "    \r\n",
    "    # run TUnCaT to calculate the unmixed traces of the marked neurons in the video\r\n",
    "    run_TUnCaT(Exp_ID, filename_video, filename_masks, dir_traces, list_alpha, Qclip, \\\r\n",
    "        th_pertmin, epsilon, use_direction, nbin, bin_option, multi_alpha, flexible_alpha)"
   ],
   "outputs": [
    {
     "output_type": "stream",
     "name": "stdout",
     "text": [
      "c28_163_244\n",
      "Data loading time: 0.05656147003173828 s\n",
      "Trace calculation time: 0.5500409603118896 s\n",
      "NMF unmixing time: 32.6215136051178 s\n"
     ]
    }
   ],
   "metadata": {}
  },
  {
   "cell_type": "markdown",
   "source": [
    "# Load the output data (Optional)."
   ],
   "metadata": {}
  },
  {
   "cell_type": "code",
   "execution_count": 5,
   "source": [
    "from scipy.io import loadmat\r\n",
    "\r\n",
    "dir_trace_raw = os.path.join(dir_traces, \"raw\")\r\n",
    "if len(list_alpha) > 1:\r\n",
    "    dir_trace_unmix = os.path.join(dir_traces, \"list_alpha={}\".format(str(list_alpha)))\r\n",
    "else:\r\n",
    "    dir_trace_unmix = os.path.join(dir_traces, \"alpha={:6.3f}\".format(list_alpha[0]))\r\n",
    "raw_mat = loadmat(os.path.join(dir_trace_raw, Exp_ID+\".mat\"))\r\n",
    "traces = raw_mat[\"traces\"]\r\n",
    "bgtraces = raw_mat[\"bgtraces\"]\r\n",
    "unmix_mat = loadmat(os.path.join(dir_trace_unmix, Exp_ID+\".mat\"))\r\n",
    "traces_nmfdemix = unmix_mat[\"traces_nmfdemix\"]"
   ],
   "outputs": [],
   "metadata": {}
  },
  {
   "cell_type": "markdown",
   "source": [
    "# Plot the mixed and unmixed trace of the first neuron (Optional, but requires matplotlib to run)."
   ],
   "metadata": {}
  },
  {
   "cell_type": "code",
   "execution_count": 6,
   "source": [
    "import matplotlib.pyplot as plt\r\n",
    "\r\n",
    "nn = 0\r\n",
    "plt.figure()\r\n",
    "plt.subplot(2,1,1)\r\n",
    "plt.plot(traces[:,0] - bgtraces[:,0])\r\n",
    "plt.subplot(2,1,2)\r\n",
    "plt.plot(traces_nmfdemix[:,0])\r\n",
    "plt.xlabel('Time (frame)')\r\n",
    "plt.show()"
   ],
   "outputs": [
    {
     "output_type": "display_data",
     "data": {
      "image/png": "[encoded data removed]",
      "text/plain": [
       "<Figure size 432x288 with 2 Axes>"
      ]
     },
     "metadata": {
      "needs_background": "light"
     }
    }
   ],
   "metadata": {}
  }
 ],
 "metadata": {
  "orig_nbformat": 4,
  "language_info": {
   "name": "python",
   "version": "3.8.5",
   "mimetype": "text/x-python",
   "codemirror_mode": {
    "name": "ipython",
    "version": 3
   },
   "pygments_lexer": "ipython3",
   "nbconvert_exporter": "python",
   "file_extension": ".py"
  },
  "kernelspec": {
   "name": "python3",
   "display_name": "Python 3.8.5 64-bit"
  },
  "interpreter": {
   "hash": "1baa965d5efe3ac65b79dfc60c0d706280b1da80fedb7760faf2759126c4f253"
  }
 },
 "nbformat": 4,
 "nbformat_minor": 2
}